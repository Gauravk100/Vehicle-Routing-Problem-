{
  "cells": [
    {
      "cell_type": "code",
      "execution_count": null,
      "metadata": {
        "id": "eri4m2bkp-s8"
      },
      "outputs": [],
      "source": [
        "!pip install matplotlib deap"
      ]
    },
    {
      "cell_type": "code",
      "execution_count": null,
      "metadata": {
        "id": "QnZbJbU8k0IF"
      },
      "outputs": [],
      "source": [
        "# Required Libraries\n",
        "import random\n",
        "import numpy as np\n",
        "import matplotlib.pyplot as plt\n",
        "from deap import base, creator, tools, algorithms\n",
        "\n",
        "#Define the number of locations and vehicles\n",
        "num_locations = 20  \n",
        "locations = [(random.randint(0, 100), random.randint(0, 100)) for _ in range(num_locations)]  # Generate random (x, y) coordinates for each location\n",
        "depot = (50, 50) \n",
        "num_vehicles = 3  \n",
        "\n",
        "# Genetic Algorithm Setup\n",
        "creator.create(\"FitnessMin\", base.Fitness, weights=(-1.0, -1.0))\n",
        "creator.create(\"Individual\", list, fitness=creator.FitnessMin)  \n",
        "\n",
        "#Finish setting up the individuals and population\n",
        "toolbox = base.Toolbox()\n",
        "toolbox.register(\"indices\", random.sample, range(num_locations), num_locations)  # Function to generate a list of unique, randomly ordered location indices\n",
        "toolbox.register(\"individual\", tools.initIterate, creator.Individual, toolbox.indices)  # Function to create an individual as a shuffled list of location indices\n",
        "toolbox.register(\"population\", tools.initRepeat, list, toolbox.individual)  # Function to create a population of individuals\n",
        "\n",
        "# Fitness Function\n",
        "def evalVRP(individual):\n",
        "    total_distance = 0\n",
        "    distances = []  # Track distance traveled by each vehicle for balance calculation\n",
        "    # Split the list of locations among vehicles, ensuring each starts and ends at the depot\n",
        "    for i in range(num_vehicles):\n",
        "        vehicle_route = [depot] + [locations[individual[j]] for j in range(i, len(individual), num_vehicles)] + [depot]\n",
        "        # Calculate total distance traveled by this vehicle\n",
        "        vehicle_distance = sum(np.linalg.norm(np.array(vehicle_route[k+1]) - np.array(vehicle_route[k])) for k in range(len(vehicle_route)-1))\n",
        "        total_distance += vehicle_distance\n",
        "        distances.append(vehicle_distance)\n",
        "    balance_penalty = np.std(distances)  # Use standard deviation of distances as a penalty for imbalance among vehicles\n",
        "    return total_distance, balance_penalty\n",
        "\n",
        "toolbox.register(\"evaluate\", evalVRP)  # Register the evaluation function\n",
        "toolbox.register(\"mate\", tools.cxPartialyMatched)  # Register the crossover function suitable for permutation-based representation\n",
        "toolbox.register(\"mutate\", tools.mutShuffleIndexes, indpb=0.05)  # Register the mutation function to shuffle indices with a 5% chance per index\n",
        "toolbox.register(\"select\", tools.selTournament, tournsize=3)  # Register the selection function using tournament selection\n",
        "\n",
        "# Plotting Function\n",
        "def plot_routes(individual, title=\"Routes\"):\n",
        "    plt.figure()\n",
        "    # Plot locations as blue dots and the depot as a red square\n",
        "    for (x, y) in locations:\n",
        "        plt.plot(x, y, 'bo')\n",
        "    plt.plot(depot[0], depot[1], 'rs')\n",
        "\n",
        "    # Draw routes for each vehicle\n",
        "    for i in range(num_vehicles):\n",
        "        vehicle_route = [depot] + [locations[individual[j]] for j in range(i, len(individual), num_vehicles)] + [depot]\n",
        "        plt.plot(*zip(*vehicle_route), '-')\n",
        "\n",
        "    plt.title(title)\n",
        "    plt.xlabel('X Coordinate')\n",
        "    plt.ylabel('Y Coordinate')\n",
        "    plt.show()\n",
        "\n",
        "# Running the Genetic Algorithm\n",
        "def main():\n",
        "    random.seed(42)  # Seed for reproducibility\n",
        "    pop = toolbox.population(n=300)  # Generate initial population\n",
        "    hof = tools.HallOfFame(1)  # Hall of Fame to store the best individual\n",
        "\n",
        "    # Setup statistics to track\n",
        "    stats = tools.Statistics(lambda ind: ind.fitness.values)\n",
        "    stats.register(\"avg\", np.mean)\n",
        "    stats.register(\"min\", np.min)\n",
        "\n",
        "    # Run the genetic algorithm\n",
        "    algorithms.eaSimple(pop, toolbox, 0.7, 0.2, 300, stats=stats, halloffame=hof)\n",
        "\n",
        "    # Plot the best route found\n",
        "    plot_routes(hof[0], \"Optimal Route\")\n",
        "    return pop, stats, hof\n",
        "\n",
        "if __name__ == \"__main__\":\n",
        "    main()\n"
      ]
    }
  ],
  "metadata": {
    "colab": {
      "provenance": []
    },
    "kernelspec": {
      "display_name": "Python 3",
      "language": "python",
      "name": "python3"
    },
    "language_info": {
      "codemirror_mode": {
        "name": "ipython",
        "version": 3
      },
      "file_extension": ".py",
      "mimetype": "text/x-python",
      "name": "python",
      "nbconvert_exporter": "python",
      "pygments_lexer": "ipython3",
      "version": "3.12.3"
    }
  },
  "nbformat": 4,
  "nbformat_minor": 0
}
